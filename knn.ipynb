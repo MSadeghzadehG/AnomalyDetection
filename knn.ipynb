{
 "cells": [
  {
   "cell_type": "code",
   "execution_count": 9,
   "metadata": {},
   "outputs": [
    {
     "name": "stdout",
     "output_type": "stream",
     "text": [
      "(60000, 28, 28)\n",
      "(60000, 1)\n"
     ]
    }
   ],
   "source": [
    "from keras.datasets import mnist\n",
    "import numpy as np\n",
    "\n",
    "(x_train, y_train), (x_test, y_test) = mnist. load_data()\n",
    "\n",
    "def cal_Edu_distance(a,b):\n",
    "\n",
    "def find_neighbors(current_point):\n",
    "    for i in x_train:\n",
    "        if (flags[i]):\n",
    "            \n",
    "            \n",
    "\n",
    "\n",
    "\n",
    "# df2 = x_train.assign(address = [].zfill(x_train.shape[0])) \n",
    "\n",
    "flags = np.ones((x_train.shape[0],1))\n",
    "# print(x_train.shape)\n",
    "# print(flags.shape)\n",
    "\n"
   ]
  },
  {
   "cell_type": "code",
   "execution_count": null,
   "metadata": {},
   "outputs": [],
   "source": []
  }
 ],
 "metadata": {
  "kernelspec": {
   "display_name": "Python 3",
   "language": "python",
   "name": "python3"
  },
  "language_info": {
   "codemirror_mode": {
    "name": "ipython",
    "version": 3
   },
   "file_extension": ".py",
   "mimetype": "text/x-python",
   "name": "python",
   "nbconvert_exporter": "python",
   "pygments_lexer": "ipython3",
   "version": "3.6.8"
  }
 },
 "nbformat": 4,
 "nbformat_minor": 2
}
